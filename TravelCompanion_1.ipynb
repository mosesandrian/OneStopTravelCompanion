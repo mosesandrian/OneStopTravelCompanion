{
  "nbformat": 4,
  "nbformat_minor": 0,
  "metadata": {
    "colab": {
      "name": "TravelCompanion_1.ipynb",
      "provenance": [],
      "collapsed_sections": []
    },
    "kernelspec": {
      "display_name": "Python 3",
      "name": "python3"
    },
    "language_info": {
      "name": "python"
    }
  },
  "cells": [
    {
      "cell_type": "code",
      "metadata": {
        "id": "GAs5lVKc9J_X"
      },
      "source": [
        "import numpy as np\n",
        "import json\n",
        "import pandas as pd\n",
        "import tensorflow as tf\n",
        "from sklearn.preprocessing import MultiLabelBinarizer\n",
        "from sklearn.utils import shuffle\n",
        "from tensorflow.keras.preprocessing.text import Tokenizer\n",
        "from tensorflow.keras.preprocessing.sequence import pad_sequences"
      ],
      "execution_count": 14,
      "outputs": []
    },
    {
      "cell_type": "code",
      "metadata": {
        "id": "XgPbbRKWUliH"
      },
      "source": [
        "# Here to pre-process the data input\n",
        "places = []\n",
        "labels = []\n",
        "training_places = []\n",
        "training_labels = []\n",
        "testing_places = []\n",
        "testing_labels = []\n",
        "\n",
        "with open(\"/tmp/Yogyakarta.json\", 'r') as f:\n",
        "    datastore = json.load(f)\n",
        "\n",
        "# to access: print(datastore['results'][2]['name'])\n",
        "for item in datastore['results']:\n",
        "  places.append(item['name'])\n",
        "  labels.append(item['types'])"
      ],
      "execution_count": 15,
      "outputs": []
    },
    {
      "cell_type": "code",
      "metadata": {
        "id": "M2JT9TT5oUyp"
      },
      "source": [
        "one_hot = MultiLabelBinarizer()\n",
        "labels = one_hot.fit_transform(labels)\n",
        "class_types = one_hot.classes_"
      ],
      "execution_count": 16,
      "outputs": []
    },
    {
      "cell_type": "code",
      "metadata": {
        "id": "k9XjYIkXDAYo"
      },
      "source": [
        "def extractPlaces(lst):\n",
        "  return list(map(lambda x:[x], lst))"
      ],
      "execution_count": 17,
      "outputs": []
    },
    {
      "cell_type": "code",
      "metadata": {
        "id": "lxVx57XSDJXf"
      },
      "source": [
        "dataset = tf.data.Dataset.from_tensor_slices((extractPlaces(places),\n",
        "                                              labels))"
      ],
      "execution_count": 18,
      "outputs": []
    },
    {
      "cell_type": "code",
      "metadata": {
        "id": "BScKjypBtdjK"
      },
      "source": [
        "# shuffle data\n",
        "places_shuffled, labels_shuffled = shuffle(places, labels)\n",
        "\n",
        "num_split = int(0.8*len(places))\n",
        "\n",
        "# split data testing and training\n",
        "training_places = places_shuffled[:num_split]\n",
        "training_labels = labels_shuffled[:num_split]\n",
        "testing_places = places_shuffled[num_split:]\n",
        "testing_labels = labels_shuffled[num_split:]"
      ],
      "execution_count": 19,
      "outputs": []
    },
    {
      "cell_type": "code",
      "metadata": {
        "id": "9WpGZymAbTIk"
      },
      "source": [
        "f = pd.DataFrame(data=labels_shuffled,\n",
        "                 index=places_shuffled,\n",
        "                 columns=class_types)\n",
        "# f # uncomment to show data frame (all data)\n",
        "\n",
        "g = pd.DataFrame(data=training_labels,\n",
        "                 index=training_places,\n",
        "                 columns=class_types)\n",
        "# g # uncomment to show data frame (training data)\n",
        "\n",
        "h = pd.DataFrame(data=testing_labels,\n",
        "                 index=testing_places,\n",
        "                 columns=class_types)\n",
        "# h # uncomment to show data frame (testing data)"
      ],
      "execution_count": 20,
      "outputs": []
    },
    {
      "cell_type": "code",
      "metadata": {
        "id": "xQ2NQ5B1UCJu"
      },
      "source": [
        "vocab_size = 12000\n",
        "embedding_dim = 16\n",
        "max_length = 24\n",
        "trunc_type = 'post'\n",
        "oov_tok = \"<OOV>\""
      ],
      "execution_count": 21,
      "outputs": []
    },
    {
      "cell_type": "code",
      "metadata": {
        "id": "jX5iJ5b3UOWd"
      },
      "source": [
        "tokenizer = Tokenizer(num_words=vocab_size, oov_token=oov_tok)\n",
        "tokenizer.fit_on_texts(training_places)\n",
        "word_index = tokenizer.word_index\n",
        "\n",
        "sequences = tokenizer.texts_to_sequences(training_places)\n",
        "training_padded = pad_sequences(sequences,\n",
        "                                maxlen=max_length,\n",
        "                                truncating = trunc_type)\n",
        "\n",
        "testing_sequences = tokenizer.texts_to_sequences(testing_places)\n",
        "testing_padded = pad_sequences(testing_sequences)"
      ],
      "execution_count": 22,
      "outputs": []
    },
    {
      "cell_type": "code",
      "metadata": {
        "id": "OtUvI5thV4tW",
        "colab": {
          "base_uri": "https://localhost:8080/"
        },
        "outputId": "b213b2b5-4982-4e44-b8ba-5b244001b9b9"
      },
      "source": [
        "model = tf.keras.Sequential([\n",
        "  tf.keras.layers.Embedding(vocab_size,\n",
        "                            embedding_dim,\n",
        "                            input_length=max_length),\n",
        "  tf.keras.layers.Conv1D(64, 5, activation='relu'),\n",
        "  tf.keras.layers.GlobalMaxPooling1D(),\n",
        "  tf.keras.layers.Dense(48, activation='relu'),\n",
        "  tf.keras.layers.Dense(5, activation='softmax') \n",
        "])\n",
        "\n",
        "# kategori: **Budaya, Sejarah, Cagar Alam, Maritim, Religi**\n",
        "\n",
        "model.compile(loss=\"categorical_crossentropy\",\n",
        "              metrics=[\"accuracy\"],\n",
        "              optimizer='adam')\n",
        "\n",
        "model.summary()"
      ],
      "execution_count": 23,
      "outputs": [
        {
          "output_type": "stream",
          "text": [
            "Model: \"sequential\"\n",
            "_________________________________________________________________\n",
            "Layer (type)                 Output Shape              Param #   \n",
            "=================================================================\n",
            "embedding (Embedding)        (None, 24, 16)            192000    \n",
            "_________________________________________________________________\n",
            "conv1d (Conv1D)              (None, 20, 64)            5184      \n",
            "_________________________________________________________________\n",
            "global_max_pooling1d (Global (None, 64)                0         \n",
            "_________________________________________________________________\n",
            "dense (Dense)                (None, 48)                3120      \n",
            "_________________________________________________________________\n",
            "dense_1 (Dense)              (None, 5)                 245       \n",
            "=================================================================\n",
            "Total params: 200,549\n",
            "Trainable params: 200,549\n",
            "Non-trainable params: 0\n",
            "_________________________________________________________________\n"
          ],
          "name": "stdout"
        }
      ]
    },
    {
      "cell_type": "code",
      "metadata": {
        "id": "ft3q9cG4-XaZ",
        "colab": {
          "base_uri": "https://localhost:8080/"
        },
        "outputId": "37992106-4a8d-4d6a-b72d-2a583fbec648"
      },
      "source": [
        "num_epochs = 10\n",
        "\n",
        "training_padded = np.array(training_padded)\n",
        "training_labels = np.array(training_labels)\n",
        "testing_padded = np.array(testing_padded)\n",
        "testing_labels = np.array(testing_labels)\n",
        "\n",
        "history = model.fit(training_padded, training_labels,\n",
        "                    epochs=num_epochs,\n",
        "                    validation_data=(testing_padded,testing_labels),\n",
        "                    verbose = 1)"
      ],
      "execution_count": 24,
      "outputs": [
        {
          "output_type": "stream",
          "text": [
            "Epoch 1/10\n",
            "1/2 [==============>...............] - ETA: 0s - loss: 2.2599 - accuracy: 0.4062WARNING:tensorflow:Model was constructed with shape (None, 24) for input KerasTensor(type_spec=TensorSpec(shape=(None, 24), dtype=tf.float32, name='embedding_input'), name='embedding_input', description=\"created by layer 'embedding_input'\"), but it was called on an input with incompatible shape (None, 8).\n",
            "2/2 [==============================] - 1s 188ms/step - loss: 2.2445 - accuracy: 0.3833 - val_loss: 2.0224 - val_accuracy: 0.2667\n",
            "Epoch 2/10\n",
            "2/2 [==============================] - 0s 25ms/step - loss: 2.2192 - accuracy: 0.3833 - val_loss: 2.0022 - val_accuracy: 0.2667\n",
            "Epoch 3/10\n",
            "2/2 [==============================] - 0s 24ms/step - loss: 2.1994 - accuracy: 0.3833 - val_loss: 1.9845 - val_accuracy: 0.2667\n",
            "Epoch 4/10\n",
            "2/2 [==============================] - 0s 22ms/step - loss: 2.1790 - accuracy: 0.3833 - val_loss: 1.9657 - val_accuracy: 0.2667\n",
            "Epoch 5/10\n",
            "2/2 [==============================] - 0s 20ms/step - loss: 2.1562 - accuracy: 0.3833 - val_loss: 1.9443 - val_accuracy: 0.2667\n",
            "Epoch 6/10\n",
            "2/2 [==============================] - 0s 22ms/step - loss: 2.1312 - accuracy: 0.3833 - val_loss: 1.9201 - val_accuracy: 0.2667\n",
            "Epoch 7/10\n",
            "2/2 [==============================] - 0s 21ms/step - loss: 2.1035 - accuracy: 0.3833 - val_loss: 1.8932 - val_accuracy: 0.2667\n",
            "Epoch 8/10\n",
            "2/2 [==============================] - 0s 30ms/step - loss: 2.0730 - accuracy: 0.3833 - val_loss: 1.8634 - val_accuracy: 0.2667\n",
            "Epoch 9/10\n",
            "2/2 [==============================] - 0s 28ms/step - loss: 2.0401 - accuracy: 0.3833 - val_loss: 1.8301 - val_accuracy: 0.2000\n",
            "Epoch 10/10\n",
            "2/2 [==============================] - 0s 23ms/step - loss: 2.0045 - accuracy: 0.3833 - val_loss: 1.7941 - val_accuracy: 0.2000\n"
          ],
          "name": "stdout"
        }
      ]
    },
    {
      "cell_type": "code",
      "metadata": {
        "id": "wCBpcjU6gZPR"
      },
      "source": [
        "# to be done after training is finished\n",
        "\n",
        "import time\n",
        "saved_model_path = \"./{}.h5\".format(int(time.time()))\n",
        "\n",
        "model.save(saved_model_path)"
      ],
      "execution_count": null,
      "outputs": []
    },
    {
      "cell_type": "code",
      "metadata": {
        "id": "3UCtadUxgx0q"
      },
      "source": [
        "!tensorflowjs_converter --input_format=keras {saved_model_path} ./"
      ],
      "execution_count": null,
      "outputs": []
    }
  ]
}