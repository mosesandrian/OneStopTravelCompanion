{
  "nbformat": 4,
  "nbformat_minor": 0,
  "metadata": {
    "colab": {
      "name": "TravelCompanion_1.ipynb",
      "provenance": [],
      "collapsed_sections": []
    },
    "kernelspec": {
      "display_name": "Python 3",
      "name": "python3"
    },
    "language_info": {
      "name": "python"
    }
  },
  "cells": [
    {
      "cell_type": "code",
      "metadata": {
        "id": "GAs5lVKc9J_X"
      },
      "source": [
        "import numpy as np\n",
        "import json\n",
        "import pandas as pd\n",
        "import tensorflow as tf\n",
        "import matplotlib.pyplot as plt\n",
        "\n",
        "from sklearn.preprocessing import MultiLabelBinarizer\n",
        "from sklearn.utils import shuffle\n",
        "from datetime import datetime\n",
        "from tensorflow.keras.preprocessing.text import Tokenizer\n",
        "from tensorflow.keras.preprocessing.sequence import pad_sequences"
      ],
      "execution_count": 1,
      "outputs": []
    },
    {
      "cell_type": "code",
      "metadata": {
        "id": "MYmOgC84Pddr"
      },
      "source": [
        "%load_ext tensorboard"
      ],
      "execution_count": null,
      "outputs": []
    },
    {
      "cell_type": "code",
      "metadata": {
        "id": "XgPbbRKWUliH"
      },
      "source": [
        "# Here to pre-process the data input\n",
        "places = []\n",
        "labels = []\n",
        "training_places = []\n",
        "training_labels = []\n",
        "testing_places = []\n",
        "testing_labels = []\n",
        "\n",
        "with open(\"/tmp/TourismSitesIndonesia.json\", 'r') as f:\n",
        "    datastore = json.load(f)\n",
        "\n",
        "# to access: print(datastore['results'][2]['name'])\n",
        "for item in datastore['results']:\n",
        "  if (item['types'] != [\"\"]): \n",
        "    places.append(item['name'])\n",
        "    labels.append(item['types'])"
      ],
      "execution_count": 2,
      "outputs": []
    },
    {
      "cell_type": "code",
      "metadata": {
        "id": "M2JT9TT5oUyp"
      },
      "source": [
        "one_hot = MultiLabelBinarizer()\n",
        "labels = one_hot.fit_transform(labels)\n",
        "class_types = one_hot.classes_"
      ],
      "execution_count": 3,
      "outputs": []
    },
    {
      "cell_type": "code",
      "metadata": {
        "id": "k9XjYIkXDAYo"
      },
      "source": [
        "def extractPlaces(lst):\n",
        "  return list(map(lambda x:[x], lst))"
      ],
      "execution_count": null,
      "outputs": []
    },
    {
      "cell_type": "code",
      "metadata": {
        "id": "lxVx57XSDJXf"
      },
      "source": [
        "dataset = tf.data.Dataset.from_tensor_slices((extractPlaces(places),\n",
        "                                              labels))"
      ],
      "execution_count": null,
      "outputs": []
    },
    {
      "cell_type": "code",
      "metadata": {
        "id": "BScKjypBtdjK"
      },
      "source": [
        "# shuffle data\n",
        "places_shuffled, labels_shuffled = shuffle(places, labels)\n",
        "\n",
        "num_split = int(0.7*len(places)) # change from 0.8 to 0.7\n",
        "\n",
        "# split data testing and training\n",
        "training_places = places_shuffled[:num_split]\n",
        "training_labels = labels_shuffled[:num_split]\n",
        "testing_places = places_shuffled[num_split:]\n",
        "testing_labels = labels_shuffled[num_split:]"
      ],
      "execution_count": 4,
      "outputs": []
    },
    {
      "cell_type": "code",
      "metadata": {
        "id": "9WpGZymAbTIk"
      },
      "source": [
        "f = pd.DataFrame(data=labels_shuffled,\n",
        "                 index=places_shuffled,\n",
        "                 columns=class_types)\n",
        "# f # uncomment to show data frame (all data)\n",
        "\n",
        "g = pd.DataFrame(data=training_labels,\n",
        "                 index=training_places,\n",
        "                 columns=class_types)\n",
        "# g # uncomment to show data frame (training data)\n",
        "\n",
        "h = pd.DataFrame(data=testing_labels,\n",
        "                 index=testing_places,\n",
        "                 columns=class_types)\n",
        "# h # uncomment to show data frame (testing data)"
      ],
      "execution_count": 5,
      "outputs": []
    },
    {
      "cell_type": "code",
      "metadata": {
        "id": "xQ2NQ5B1UCJu"
      },
      "source": [
        "vocab_size = 12000\n",
        "embedding_dim = 64\n",
        "max_length = 10\n",
        "trunc_type = 'post'\n",
        "oov_tok = \"<OOV>\""
      ],
      "execution_count": 6,
      "outputs": []
    },
    {
      "cell_type": "code",
      "metadata": {
        "id": "jX5iJ5b3UOWd"
      },
      "source": [
        "tokenizer = Tokenizer(num_words=vocab_size, oov_token=oov_tok)\n",
        "tokenizer.fit_on_texts(training_places)\n",
        "word_index = tokenizer.word_index\n",
        "\n",
        "sequences = tokenizer.texts_to_sequences(training_places)\n",
        "training_padded = pad_sequences(sequences,\n",
        "                                maxlen=max_length,\n",
        "                                truncating = trunc_type)\n",
        "\n",
        "testing_sequences = tokenizer.texts_to_sequences(testing_places)\n",
        "testing_padded = pad_sequences(testing_sequences)"
      ],
      "execution_count": 7,
      "outputs": []
    },
    {
      "cell_type": "code",
      "metadata": {
        "id": "OtUvI5thV4tW",
        "colab": {
          "base_uri": "https://localhost:8080/"
        },
        "outputId": "b2be2603-bf80-46aa-98df-1d7eeff6cbfa"
      },
      "source": [
        "model = tf.keras.Sequential([\n",
        "  tf.keras.layers.Embedding(vocab_size, ## formerly: vocab_size\n",
        "                            embedding_dim,\n",
        "                            input_length=max_length),\n",
        "  tf.keras.layers.Bidirectional(tf.keras.layers.LSTM(64)),\n",
        "  tf.keras.layers.Dense(128, activation='relu'),\n",
        "  tf.keras.layers.Dense(64, activation='sigmoid'),\n",
        "  tf.keras.layers.Dense(5, activation='softmax') \n",
        "])\n",
        "\n",
        "# kategori: **Budaya, Sejarah, Cagar Alam, Maritim, Religi**\n",
        "\n",
        "model.compile(loss=\"categorical_crossentropy\",\n",
        "              metrics=[\"accuracy\"],\n",
        "              optimizer='adam')\n",
        "\n",
        "model.summary()"
      ],
      "execution_count": 29,
      "outputs": [
        {
          "output_type": "stream",
          "text": [
            "Model: \"sequential_5\"\n",
            "_________________________________________________________________\n",
            "Layer (type)                 Output Shape              Param #   \n",
            "=================================================================\n",
            "embedding_5 (Embedding)      (None, 10, 64)            768000    \n",
            "_________________________________________________________________\n",
            "bidirectional_5 (Bidirection (None, 128)               66048     \n",
            "_________________________________________________________________\n",
            "dense_15 (Dense)             (None, 128)               16512     \n",
            "_________________________________________________________________\n",
            "dense_16 (Dense)             (None, 64)                8256      \n",
            "_________________________________________________________________\n",
            "dense_17 (Dense)             (None, 5)                 325       \n",
            "=================================================================\n",
            "Total params: 859,141\n",
            "Trainable params: 859,141\n",
            "Non-trainable params: 0\n",
            "_________________________________________________________________\n"
          ],
          "name": "stdout"
        }
      ]
    },
    {
      "cell_type": "code",
      "metadata": {
        "id": "QcWzUAXrjzIF"
      },
      "source": [
        "DESIRED_ACCURACY = 0.99\n",
        "\n",
        "class myCallback(tf.keras.callbacks.Callback):\n",
        "    def on_epoch_end(self,epoch,logs={}):\n",
        "        if(logs.get('accuracy')>DESIRED_ACCURACY):\n",
        "            print(\"\\nReached threshold accuracy so cancelling training!\")\n",
        "            self.model.stop_training = True\n",
        "callbacks = myCallback()"
      ],
      "execution_count": 30,
      "outputs": []
    },
    {
      "cell_type": "code",
      "metadata": {
        "id": "ft3q9cG4-XaZ",
        "colab": {
          "base_uri": "https://localhost:8080/"
        },
        "outputId": "5e7bf83b-1416-4258-a154-92d33ee8c29e"
      },
      "source": [
        "num_epochs = 100\n",
        "\n",
        "history = model.fit(training_padded, training_labels,\n",
        "                    epochs=num_epochs,\n",
        "                    validation_data=(testing_padded,testing_labels),\n",
        "                    verbose = 1,\n",
        "                    batch_size = 16, # change from 64 -> 8\n",
        "                    callbacks = [callbacks])"
      ],
      "execution_count": 31,
      "outputs": [
        {
          "output_type": "stream",
          "text": [
            "Epoch 1/100\n",
            "16/18 [=========================>....] - ETA: 0s - loss: 2.1695 - accuracy: 0.1641WARNING:tensorflow:Model was constructed with shape (None, 10) for input KerasTensor(type_spec=TensorSpec(shape=(None, 10), dtype=tf.float32, name='embedding_5_input'), name='embedding_5_input', description=\"created by layer 'embedding_5_input'\"), but it was called on an input with incompatible shape (None, 7).\n",
            "18/18 [==============================] - 4s 68ms/step - loss: 2.1466 - accuracy: 0.1910 - val_loss: 1.9714 - val_accuracy: 0.3710\n",
            "Epoch 2/100\n",
            "18/18 [==============================] - 0s 21ms/step - loss: 2.1470 - accuracy: 0.3299 - val_loss: 2.0526 - val_accuracy: 0.3710\n",
            "Epoch 3/100\n",
            "18/18 [==============================] - 0s 22ms/step - loss: 2.1021 - accuracy: 0.3854 - val_loss: 1.9580 - val_accuracy: 0.3710\n",
            "Epoch 4/100\n",
            "18/18 [==============================] - 0s 20ms/step - loss: 2.0152 - accuracy: 0.3854 - val_loss: 1.9468 - val_accuracy: 0.3710\n",
            "Epoch 5/100\n",
            "18/18 [==============================] - 0s 21ms/step - loss: 1.9993 - accuracy: 0.3854 - val_loss: 1.9429 - val_accuracy: 0.3710\n",
            "Epoch 6/100\n",
            "18/18 [==============================] - 0s 20ms/step - loss: 2.0030 - accuracy: 0.3854 - val_loss: 1.9402 - val_accuracy: 0.3710\n",
            "Epoch 7/100\n",
            "18/18 [==============================] - 0s 20ms/step - loss: 1.9966 - accuracy: 0.3854 - val_loss: 1.9389 - val_accuracy: 0.3710\n",
            "Epoch 8/100\n",
            "18/18 [==============================] - 0s 20ms/step - loss: 2.0007 - accuracy: 0.3854 - val_loss: 1.9461 - val_accuracy: 0.3710\n",
            "Epoch 9/100\n",
            "18/18 [==============================] - 0s 20ms/step - loss: 2.0011 - accuracy: 0.3854 - val_loss: 1.9454 - val_accuracy: 0.3710\n",
            "Epoch 10/100\n",
            "18/18 [==============================] - 0s 21ms/step - loss: 2.0048 - accuracy: 0.3854 - val_loss: 1.9478 - val_accuracy: 0.3710\n",
            "Epoch 11/100\n",
            "18/18 [==============================] - 0s 20ms/step - loss: 2.0009 - accuracy: 0.3854 - val_loss: 1.9449 - val_accuracy: 0.3710\n",
            "Epoch 12/100\n",
            "18/18 [==============================] - 0s 21ms/step - loss: 2.0001 - accuracy: 0.3854 - val_loss: 1.9445 - val_accuracy: 0.3710\n",
            "Epoch 13/100\n",
            "18/18 [==============================] - 0s 23ms/step - loss: 2.0009 - accuracy: 0.3854 - val_loss: 1.9392 - val_accuracy: 0.3710\n",
            "Epoch 14/100\n",
            "18/18 [==============================] - 0s 20ms/step - loss: 1.9968 - accuracy: 0.3854 - val_loss: 1.9441 - val_accuracy: 0.3710\n",
            "Epoch 15/100\n",
            "18/18 [==============================] - 0s 20ms/step - loss: 1.9743 - accuracy: 0.3958 - val_loss: 1.9058 - val_accuracy: 0.3710\n",
            "Epoch 16/100\n",
            "18/18 [==============================] - 0s 20ms/step - loss: 1.7692 - accuracy: 0.4618 - val_loss: 1.8129 - val_accuracy: 0.3952\n",
            "Epoch 17/100\n",
            "18/18 [==============================] - 0s 20ms/step - loss: 1.6228 - accuracy: 0.5139 - val_loss: 1.7976 - val_accuracy: 0.4113\n",
            "Epoch 18/100\n",
            "18/18 [==============================] - 0s 21ms/step - loss: 1.5682 - accuracy: 0.5174 - val_loss: 1.8721 - val_accuracy: 0.3952\n",
            "Epoch 19/100\n",
            "18/18 [==============================] - 0s 22ms/step - loss: 1.5736 - accuracy: 0.5035 - val_loss: 1.7897 - val_accuracy: 0.4194\n",
            "Epoch 20/100\n",
            "18/18 [==============================] - 0s 19ms/step - loss: 1.5417 - accuracy: 0.5069 - val_loss: 1.8239 - val_accuracy: 0.4194\n",
            "Epoch 21/100\n",
            "18/18 [==============================] - 0s 22ms/step - loss: 1.5573 - accuracy: 0.4965 - val_loss: 1.9018 - val_accuracy: 0.4113\n",
            "Epoch 22/100\n",
            "18/18 [==============================] - 0s 20ms/step - loss: 1.5257 - accuracy: 0.5104 - val_loss: 1.9510 - val_accuracy: 0.4032\n",
            "Epoch 23/100\n",
            "18/18 [==============================] - 0s 21ms/step - loss: 1.5097 - accuracy: 0.5243 - val_loss: 2.0154 - val_accuracy: 0.3952\n",
            "Epoch 24/100\n",
            "18/18 [==============================] - 0s 21ms/step - loss: 1.5062 - accuracy: 0.5243 - val_loss: 2.0145 - val_accuracy: 0.3952\n",
            "Epoch 25/100\n",
            "18/18 [==============================] - 0s 20ms/step - loss: 1.5228 - accuracy: 0.5139 - val_loss: 1.9631 - val_accuracy: 0.4113\n",
            "Epoch 26/100\n",
            "18/18 [==============================] - 0s 20ms/step - loss: 1.5132 - accuracy: 0.5174 - val_loss: 1.9212 - val_accuracy: 0.4194\n",
            "Epoch 27/100\n",
            "18/18 [==============================] - 0s 22ms/step - loss: 1.4920 - accuracy: 0.5104 - val_loss: 1.9431 - val_accuracy: 0.4113\n",
            "Epoch 28/100\n",
            "18/18 [==============================] - 0s 20ms/step - loss: 1.4926 - accuracy: 0.4931 - val_loss: 1.9018 - val_accuracy: 0.4032\n",
            "Epoch 29/100\n",
            "18/18 [==============================] - 0s 21ms/step - loss: 1.4077 - accuracy: 0.5660 - val_loss: 2.0086 - val_accuracy: 0.3952\n",
            "Epoch 30/100\n",
            "18/18 [==============================] - 0s 20ms/step - loss: 1.3229 - accuracy: 0.7951 - val_loss: 2.0962 - val_accuracy: 0.4355\n",
            "Epoch 31/100\n",
            "18/18 [==============================] - 0s 20ms/step - loss: 1.2706 - accuracy: 0.8090 - val_loss: 2.0242 - val_accuracy: 0.4919\n",
            "Epoch 32/100\n",
            "18/18 [==============================] - 0s 21ms/step - loss: 1.2139 - accuracy: 0.8333 - val_loss: 2.1896 - val_accuracy: 0.4435\n",
            "Epoch 33/100\n",
            "18/18 [==============================] - 0s 20ms/step - loss: 1.1955 - accuracy: 0.8229 - val_loss: 2.1843 - val_accuracy: 0.4839\n",
            "Epoch 34/100\n",
            "18/18 [==============================] - 0s 21ms/step - loss: 1.1495 - accuracy: 0.8507 - val_loss: 2.1223 - val_accuracy: 0.5484\n",
            "Epoch 35/100\n",
            "18/18 [==============================] - 0s 21ms/step - loss: 1.1494 - accuracy: 0.8507 - val_loss: 2.3656 - val_accuracy: 0.4839\n",
            "Epoch 36/100\n",
            "18/18 [==============================] - 0s 20ms/step - loss: 1.1289 - accuracy: 0.8333 - val_loss: 2.3857 - val_accuracy: 0.4919\n",
            "Epoch 37/100\n",
            "18/18 [==============================] - 0s 20ms/step - loss: 1.1061 - accuracy: 0.8403 - val_loss: 2.5623 - val_accuracy: 0.4274\n",
            "Epoch 38/100\n",
            "18/18 [==============================] - 0s 20ms/step - loss: 1.0878 - accuracy: 0.8229 - val_loss: 2.3557 - val_accuracy: 0.5161\n",
            "Epoch 39/100\n",
            "18/18 [==============================] - 0s 21ms/step - loss: 1.0933 - accuracy: 0.8090 - val_loss: 2.2359 - val_accuracy: 0.5081\n",
            "Epoch 40/100\n",
            "18/18 [==============================] - 0s 21ms/step - loss: 1.0520 - accuracy: 0.8194 - val_loss: 2.0907 - val_accuracy: 0.5403\n",
            "Epoch 41/100\n",
            "18/18 [==============================] - 0s 21ms/step - loss: 1.0414 - accuracy: 0.8299 - val_loss: 2.0843 - val_accuracy: 0.5403\n",
            "Epoch 42/100\n",
            "18/18 [==============================] - 0s 20ms/step - loss: 1.0291 - accuracy: 0.8229 - val_loss: 2.1640 - val_accuracy: 0.5403\n",
            "Epoch 43/100\n",
            "18/18 [==============================] - 0s 21ms/step - loss: 1.0094 - accuracy: 0.8333 - val_loss: 2.1447 - val_accuracy: 0.5323\n",
            "Epoch 44/100\n",
            "18/18 [==============================] - 0s 20ms/step - loss: 0.9970 - accuracy: 0.8021 - val_loss: 2.1141 - val_accuracy: 0.5565\n",
            "Epoch 45/100\n",
            "18/18 [==============================] - 0s 20ms/step - loss: 0.9965 - accuracy: 0.8056 - val_loss: 2.4822 - val_accuracy: 0.4919\n",
            "Epoch 46/100\n",
            "18/18 [==============================] - 0s 21ms/step - loss: 0.9848 - accuracy: 0.8090 - val_loss: 2.5072 - val_accuracy: 0.4516\n",
            "Epoch 47/100\n",
            "18/18 [==============================] - 0s 20ms/step - loss: 0.9848 - accuracy: 0.8368 - val_loss: 2.4947 - val_accuracy: 0.4435\n",
            "Epoch 48/100\n",
            "18/18 [==============================] - 0s 21ms/step - loss: 0.9927 - accuracy: 0.8056 - val_loss: 2.5376 - val_accuracy: 0.4435\n",
            "Epoch 49/100\n",
            "18/18 [==============================] - 0s 23ms/step - loss: 0.9921 - accuracy: 0.8090 - val_loss: 2.5128 - val_accuracy: 0.4516\n",
            "Epoch 50/100\n",
            "18/18 [==============================] - 0s 20ms/step - loss: 0.9890 - accuracy: 0.7743 - val_loss: 2.5177 - val_accuracy: 0.4032\n",
            "Epoch 51/100\n",
            "18/18 [==============================] - 0s 22ms/step - loss: 0.9848 - accuracy: 0.8056 - val_loss: 2.5304 - val_accuracy: 0.4435\n",
            "Epoch 52/100\n",
            "18/18 [==============================] - 0s 20ms/step - loss: 0.9872 - accuracy: 0.8056 - val_loss: 2.5639 - val_accuracy: 0.5242\n",
            "Epoch 53/100\n",
            "18/18 [==============================] - 0s 20ms/step - loss: 0.9884 - accuracy: 0.8542 - val_loss: 2.5693 - val_accuracy: 0.5242\n",
            "Epoch 54/100\n",
            "18/18 [==============================] - 0s 20ms/step - loss: 0.9854 - accuracy: 0.8368 - val_loss: 2.5518 - val_accuracy: 0.5081\n",
            "Epoch 55/100\n",
            "18/18 [==============================] - 0s 20ms/step - loss: 0.9828 - accuracy: 0.7812 - val_loss: 2.5907 - val_accuracy: 0.5161\n",
            "Epoch 56/100\n",
            "18/18 [==============================] - 0s 20ms/step - loss: 0.9826 - accuracy: 0.7812 - val_loss: 2.6100 - val_accuracy: 0.5161\n",
            "Epoch 57/100\n",
            "18/18 [==============================] - 0s 21ms/step - loss: 0.9906 - accuracy: 0.8472 - val_loss: 2.6242 - val_accuracy: 0.5323\n",
            "Epoch 58/100\n",
            "18/18 [==============================] - 0s 24ms/step - loss: 0.9856 - accuracy: 0.8472 - val_loss: 2.6598 - val_accuracy: 0.5242\n",
            "Epoch 59/100\n",
            "18/18 [==============================] - 0s 27ms/step - loss: 0.9874 - accuracy: 0.7674 - val_loss: 2.6907 - val_accuracy: 0.5161\n",
            "Epoch 60/100\n",
            "18/18 [==============================] - 0s 27ms/step - loss: 0.9910 - accuracy: 0.7986 - val_loss: 2.7316 - val_accuracy: 0.5161\n",
            "Epoch 61/100\n",
            "18/18 [==============================] - 0s 27ms/step - loss: 0.9923 - accuracy: 0.8090 - val_loss: 2.7394 - val_accuracy: 0.5000\n",
            "Epoch 62/100\n",
            "18/18 [==============================] - 0s 26ms/step - loss: 0.9915 - accuracy: 0.7951 - val_loss: 2.7790 - val_accuracy: 0.5323\n",
            "Epoch 63/100\n",
            "18/18 [==============================] - 1s 29ms/step - loss: 0.9904 - accuracy: 0.8368 - val_loss: 2.8039 - val_accuracy: 0.5242\n",
            "Epoch 64/100\n",
            "18/18 [==============================] - 0s 26ms/step - loss: 0.9923 - accuracy: 0.7778 - val_loss: 2.8210 - val_accuracy: 0.4919\n",
            "Epoch 65/100\n",
            "18/18 [==============================] - 0s 25ms/step - loss: 0.9955 - accuracy: 0.7674 - val_loss: 2.9453 - val_accuracy: 0.5000\n",
            "Epoch 66/100\n",
            "18/18 [==============================] - 0s 26ms/step - loss: 1.0067 - accuracy: 0.8333 - val_loss: 2.9075 - val_accuracy: 0.5161\n",
            "Epoch 67/100\n",
            "18/18 [==============================] - 0s 27ms/step - loss: 1.0036 - accuracy: 0.8507 - val_loss: 2.9235 - val_accuracy: 0.5242\n",
            "Epoch 68/100\n",
            "18/18 [==============================] - 0s 26ms/step - loss: 1.0006 - accuracy: 0.7778 - val_loss: 2.9587 - val_accuracy: 0.4919\n",
            "Epoch 69/100\n",
            "18/18 [==============================] - 0s 24ms/step - loss: 1.0035 - accuracy: 0.8472 - val_loss: 2.9934 - val_accuracy: 0.5000\n",
            "Epoch 70/100\n",
            "18/18 [==============================] - 0s 28ms/step - loss: 1.0129 - accuracy: 0.8576 - val_loss: 2.9825 - val_accuracy: 0.5161\n",
            "Epoch 71/100\n",
            "18/18 [==============================] - 0s 25ms/step - loss: 1.0158 - accuracy: 0.8924 - val_loss: 3.0177 - val_accuracy: 0.5000\n",
            "Epoch 72/100\n",
            "18/18 [==============================] - 0s 26ms/step - loss: 1.0179 - accuracy: 0.8889 - val_loss: 3.0610 - val_accuracy: 0.5081\n",
            "Epoch 73/100\n",
            "18/18 [==============================] - 1s 34ms/step - loss: 1.0215 - accuracy: 0.8993 - val_loss: 3.0976 - val_accuracy: 0.4919\n",
            "Epoch 74/100\n",
            "18/18 [==============================] - 1s 38ms/step - loss: 1.0235 - accuracy: 0.9167 - val_loss: 3.1541 - val_accuracy: 0.4919\n",
            "Epoch 75/100\n",
            "18/18 [==============================] - 1s 38ms/step - loss: 1.0254 - accuracy: 0.9167 - val_loss: 3.1377 - val_accuracy: 0.5000\n",
            "Epoch 76/100\n",
            "18/18 [==============================] - 0s 28ms/step - loss: 1.0266 - accuracy: 0.9201 - val_loss: 3.2247 - val_accuracy: 0.5000\n",
            "Epoch 77/100\n",
            "18/18 [==============================] - 0s 21ms/step - loss: 1.0388 - accuracy: 0.9236 - val_loss: 3.2265 - val_accuracy: 0.5000\n",
            "Epoch 78/100\n",
            "18/18 [==============================] - 0s 21ms/step - loss: 1.0374 - accuracy: 0.8993 - val_loss: 3.1204 - val_accuracy: 0.4919\n",
            "Epoch 79/100\n",
            "18/18 [==============================] - 0s 23ms/step - loss: 1.0966 - accuracy: 0.9028 - val_loss: 3.0904 - val_accuracy: 0.4919\n",
            "Epoch 80/100\n",
            "18/18 [==============================] - 0s 21ms/step - loss: 1.1117 - accuracy: 0.8438 - val_loss: 3.1273 - val_accuracy: 0.5000\n",
            "Epoch 81/100\n",
            "18/18 [==============================] - 0s 22ms/step - loss: 1.1164 - accuracy: 0.8576 - val_loss: 3.5400 - val_accuracy: 0.4274\n",
            "Epoch 82/100\n",
            "18/18 [==============================] - 0s 20ms/step - loss: 1.1672 - accuracy: 0.8368 - val_loss: 3.2922 - val_accuracy: 0.5161\n",
            "Epoch 83/100\n",
            "18/18 [==============================] - 0s 22ms/step - loss: 1.1211 - accuracy: 0.8472 - val_loss: 3.7654 - val_accuracy: 0.4758\n",
            "Epoch 84/100\n",
            "18/18 [==============================] - 0s 21ms/step - loss: 1.2079 - accuracy: 0.8403 - val_loss: 3.3549 - val_accuracy: 0.5403\n",
            "Epoch 85/100\n",
            "18/18 [==============================] - 0s 23ms/step - loss: 1.1728 - accuracy: 0.8438 - val_loss: 3.5633 - val_accuracy: 0.4516\n",
            "Epoch 86/100\n",
            "18/18 [==============================] - 0s 21ms/step - loss: 1.1214 - accuracy: 0.8576 - val_loss: 3.6656 - val_accuracy: 0.4758\n",
            "Epoch 87/100\n",
            "18/18 [==============================] - 0s 21ms/step - loss: 1.1007 - accuracy: 0.8889 - val_loss: 3.5130 - val_accuracy: 0.5242\n",
            "Epoch 88/100\n",
            "18/18 [==============================] - 0s 21ms/step - loss: 1.0945 - accuracy: 0.8958 - val_loss: 3.5697 - val_accuracy: 0.4758\n",
            "Epoch 89/100\n",
            "18/18 [==============================] - 0s 20ms/step - loss: 1.0770 - accuracy: 0.8750 - val_loss: 3.5851 - val_accuracy: 0.4516\n",
            "Epoch 90/100\n",
            "18/18 [==============================] - 0s 21ms/step - loss: 1.0713 - accuracy: 0.8750 - val_loss: 3.4743 - val_accuracy: 0.4758\n",
            "Epoch 91/100\n",
            "18/18 [==============================] - 0s 21ms/step - loss: 1.0702 - accuracy: 0.8715 - val_loss: 3.4667 - val_accuracy: 0.4597\n",
            "Epoch 92/100\n",
            "18/18 [==============================] - 0s 21ms/step - loss: 1.0670 - accuracy: 0.8715 - val_loss: 3.4239 - val_accuracy: 0.4919\n",
            "Epoch 93/100\n",
            "18/18 [==============================] - 0s 21ms/step - loss: 1.0702 - accuracy: 0.8715 - val_loss: 3.4656 - val_accuracy: 0.4677\n",
            "Epoch 94/100\n",
            "18/18 [==============================] - 0s 20ms/step - loss: 1.0718 - accuracy: 0.8715 - val_loss: 3.5073 - val_accuracy: 0.4677\n",
            "Epoch 95/100\n",
            "18/18 [==============================] - 0s 21ms/step - loss: 1.0823 - accuracy: 0.8715 - val_loss: 3.5357 - val_accuracy: 0.4677\n",
            "Epoch 96/100\n",
            "18/18 [==============================] - 0s 22ms/step - loss: 1.0911 - accuracy: 0.8750 - val_loss: 3.5350 - val_accuracy: 0.4839\n",
            "Epoch 97/100\n",
            "18/18 [==============================] - 0s 23ms/step - loss: 1.1011 - accuracy: 0.8715 - val_loss: 3.5463 - val_accuracy: 0.4919\n",
            "Epoch 98/100\n",
            "18/18 [==============================] - 0s 23ms/step - loss: 1.1036 - accuracy: 0.8750 - val_loss: 3.5624 - val_accuracy: 0.4758\n",
            "Epoch 99/100\n",
            "18/18 [==============================] - 0s 21ms/step - loss: 1.1188 - accuracy: 0.8750 - val_loss: 3.3211 - val_accuracy: 0.5242\n",
            "Epoch 100/100\n",
            "18/18 [==============================] - 0s 24ms/step - loss: 1.1115 - accuracy: 0.9271 - val_loss: 3.4657 - val_accuracy: 0.5161\n"
          ],
          "name": "stdout"
        }
      ]
    },
    {
      "cell_type": "code",
      "metadata": {
        "colab": {
          "base_uri": "https://localhost:8080/",
          "height": 294
        },
        "id": "ehLWDshUSVaC",
        "outputId": "6de4bf4d-d1cb-4e77-ea0f-321df693e3fa"
      },
      "source": [
        "plt.plot(history.history['accuracy'])\n",
        "plt.plot(history.history['val_accuracy'])\n",
        "plt.title('model accuracy')\n",
        "plt.ylabel('accuracy')\n",
        "plt.xlabel('epoch')\n",
        "plt.legend(['train', 'test'], loc='upper left')\n",
        "plt.show()"
      ],
      "execution_count": 32,
      "outputs": [
        {
          "output_type": "display_data",
          "data": {
            "image/png": "[encoded data removed]",
            "text/plain": [
              "<Figure size 432x288 with 1 Axes>"
            ]
          },
          "metadata": {
            "tags": [],
            "needs_background": "light"
          }
        }
      ]
    },
    {
      "cell_type": "code",
      "metadata": {
        "colab": {
          "base_uri": "https://localhost:8080/",
          "height": 294
        },
        "id": "7RcfBel-SaWS",
        "outputId": "ec472348-60b7-42f9-8dcb-d6af2f25ef2b"
      },
      "source": [
        "plt.plot(history.history['loss'])\n",
        "plt.plot(history.history['val_loss'])\n",
        "plt.title('model loss')\n",
        "plt.ylabel('loss')\n",
        "plt.xlabel('epoch')\n",
        "plt.legend(['train', 'test'], loc='upper left')\n",
        "plt.show()"
      ],
      "execution_count": 33,
      "outputs": [
        {
          "output_type": "display_data",
          "data": {
            "image/png": "[encoded data removed]",
            "text/plain": [
              "<Figure size 432x288 with 1 Axes>"
            ]
          },
          "metadata": {
            "tags": [],
            "needs_background": "light"
          }
        }
      ]
    },
    {
      "cell_type": "code",
      "metadata": {
        "id": "wCBpcjU6gZPR"
      },
      "source": [
        "# to be done after training is finished\n",
        "\n",
        "import time\n",
        "saved_model_path = \"./{}.h5\".format(int(time.time()))\n",
        "\n",
        "model.save(saved_model_path)"
      ],
      "execution_count": 34,
      "outputs": []
    },
    {
      "cell_type": "code",
      "metadata": {
        "colab": {
          "base_uri": "https://localhost:8080/"
        },
        "id": "re7FCpi1rqYd",
        "outputId": "2c5087a6-6d4c-4d9c-d0fe-14ad13691d83"
      },
      "source": [
        "!pwd"
      ],
      "execution_count": 38,
      "outputs": [
        {
          "output_type": "stream",
          "text": [
            "/content\n"
          ],
          "name": "stdout"
        }
      ]
    },
    {
      "cell_type": "code",
      "metadata": {
        "id": "3UCtadUxgx0q"
      },
      "source": [
        "!sudo pip install tensorflowjs\n",
        "!tensorflowjs_converter --input_format=keras {saved_model_path} ./"
      ],
      "execution_count": null,
      "outputs": []
    }
  ]
}