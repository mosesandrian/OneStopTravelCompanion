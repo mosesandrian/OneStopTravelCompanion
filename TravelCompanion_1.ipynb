{
 "cells": [
  {
   "cell_type": "markdown",
   "metadata": {
    "colab_type": "text",
    "id": "view-in-github"
   },
   "source": [
    "<a href=\"https://colab.research.google.com/github/mosesandrian/OneStopTravelCompanion/blob/main/TravelCompanion_1.ipynb\" target=\"_parent\"><img src=\"https://colab.research.google.com/assets/colab-badge.svg\" alt=\"Open In Colab\"/></a>"
   ]
  },
  {
   "cell_type": "code",
   "execution_count": 11,
   "metadata": {
    "id": "GAs5lVKc9J_X"
   },
   "outputs": [],
   "source": [
    "import numpy as np\n",
    "import json\n",
    "import pandas as pd\n",
    "import tensorflow as tf\n",
    "from sklearn.preprocessing import MultiLabelBinarizer\n",
    "from sklearn.utils import shuffle\n",
    "from tensorflow.keras.preprocessing.text import Tokenizer\n",
    "from tensorflow.keras.preprocessing.sequence import pad_sequences"
   ]
  },
  {
   "cell_type": "code",
   "execution_count": 40,
   "metadata": {
    "id": "XgPbbRKWUliH"
   },
   "outputs": [],
   "source": [
    "# Here to pre-process the data input\n",
    "places = []\n",
    "labels = []\n",
    "training_places = []\n",
    "training_labels = []\n",
    "testing_places = []\n",
    "testing_labels = []\n",
    "\n",
    "with open(\"/tmp/Yogyakarta.json\", 'r') as f:\n",
    "    datastore = json.load(f)\n",
    "\n",
    "for item in datastore['results']:\n",
    "  places.append(item['name'])\n",
    "  labels.append(item['types'])"
   ]
  },
  {
   "cell_type": "code",
   "execution_count": 41,
   "metadata": {
    "id": "M2JT9TT5oUyp"
   },
   "outputs": [],
   "source": [
    "one_hot = MultiLabelBinarizer()\n",
    "labels = one_hot.fit_transform(labels)\n",
    "class_types = one_hot.classes_"
   ]
  },
  {
   "cell_type": "code",
   "execution_count": null,
   "metadata": {},
   "outputs": [],
   "source": [
    "def extractPlaces(lst):\n",
    "  return list(map(lambda x:[x], lst))\n",
    "\n",
    "dataset = tf.data.Dataset.from_tensor_slices((extractPlaces(places),\n",
    "                                              labels))"
   ]
  },
  {
   "cell_type": "code",
   "execution_count": 42,
   "metadata": {
    "colab": {
     "base_uri": "https://localhost:8080/",
     "height": 406
    },
    "id": "BScKjypBtdjK",
    "outputId": "f644a39b-59e1-4fbb-b487-9d4d465b0ba6"
   },
   "outputs": [
    {
     "data": {
      "text/html": [
       "<div>\n",
       "<style scoped>\n",
       "    .dataframe tbody tr th:only-of-type {\n",
       "        vertical-align: middle;\n",
       "    }\n",
       "\n",
       "    .dataframe tbody tr th {\n",
       "        vertical-align: top;\n",
       "    }\n",
       "\n",
       "    .dataframe thead th {\n",
       "        text-align: right;\n",
       "    }\n",
       "</style>\n",
       "<table border=\"1\" class=\"dataframe\">\n",
       "  <thead>\n",
       "    <tr style=\"text-align: right;\">\n",
       "      <th></th>\n",
       "      <th>budaya</th>\n",
       "      <th>cagar_alam</th>\n",
       "      <th>maritim</th>\n",
       "      <th>religi</th>\n",
       "      <th>sejarah</th>\n",
       "    </tr>\n",
       "  </thead>\n",
       "  <tbody>\n",
       "    <tr>\n",
       "      <th>Kampung Wisata Sosromenduran</th>\n",
       "      <td>1</td>\n",
       "      <td>0</td>\n",
       "      <td>0</td>\n",
       "      <td>0</td>\n",
       "      <td>0</td>\n",
       "    </tr>\n",
       "    <tr>\n",
       "      <th>Taman Air Menari</th>\n",
       "      <td>1</td>\n",
       "      <td>0</td>\n",
       "      <td>0</td>\n",
       "      <td>0</td>\n",
       "      <td>0</td>\n",
       "    </tr>\n",
       "    <tr>\n",
       "      <th>Kampung MARKISA Blunyahrejo</th>\n",
       "      <td>0</td>\n",
       "      <td>1</td>\n",
       "      <td>0</td>\n",
       "      <td>0</td>\n",
       "      <td>0</td>\n",
       "    </tr>\n",
       "    <tr>\n",
       "      <th>VARIASI RUMAH AQUARIUM PAK BAWOR</th>\n",
       "      <td>1</td>\n",
       "      <td>1</td>\n",
       "      <td>0</td>\n",
       "      <td>0</td>\n",
       "      <td>0</td>\n",
       "    </tr>\n",
       "    <tr>\n",
       "      <th>Sanggar Sastra Indonesia Yogyakarta</th>\n",
       "      <td>1</td>\n",
       "      <td>0</td>\n",
       "      <td>0</td>\n",
       "      <td>0</td>\n",
       "      <td>1</td>\n",
       "    </tr>\n",
       "    <tr>\n",
       "      <th>...</th>\n",
       "      <td>...</td>\n",
       "      <td>...</td>\n",
       "      <td>...</td>\n",
       "      <td>...</td>\n",
       "      <td>...</td>\n",
       "    </tr>\n",
       "    <tr>\n",
       "      <th>Kampung Lampion Code 18</th>\n",
       "      <td>1</td>\n",
       "      <td>1</td>\n",
       "      <td>0</td>\n",
       "      <td>0</td>\n",
       "      <td>1</td>\n",
       "    </tr>\n",
       "    <tr>\n",
       "      <th>Romo Mangun Museum</th>\n",
       "      <td>1</td>\n",
       "      <td>0</td>\n",
       "      <td>0</td>\n",
       "      <td>0</td>\n",
       "      <td>1</td>\n",
       "    </tr>\n",
       "    <tr>\n",
       "      <th>SANGGAR PENANTIAN</th>\n",
       "      <td>1</td>\n",
       "      <td>0</td>\n",
       "      <td>0</td>\n",
       "      <td>0</td>\n",
       "      <td>1</td>\n",
       "    </tr>\n",
       "    <tr>\n",
       "      <th>PJL Geser</th>\n",
       "      <td>1</td>\n",
       "      <td>0</td>\n",
       "      <td>0</td>\n",
       "      <td>0</td>\n",
       "      <td>1</td>\n",
       "    </tr>\n",
       "    <tr>\n",
       "      <th>Jembatan Kleringan Kewek</th>\n",
       "      <td>1</td>\n",
       "      <td>0</td>\n",
       "      <td>0</td>\n",
       "      <td>0</td>\n",
       "      <td>1</td>\n",
       "    </tr>\n",
       "  </tbody>\n",
       "</table>\n",
       "<p>75 rows × 5 columns</p>\n",
       "</div>"
      ],
      "text/plain": [
       "                                     budaya  cagar_alam  ...  religi  sejarah\n",
       "Kampung Wisata Sosromenduran              1           0  ...       0        0\n",
       "Taman Air Menari                          1           0  ...       0        0\n",
       "Kampung MARKISA Blunyahrejo               0           1  ...       0        0\n",
       "VARIASI RUMAH AQUARIUM PAK BAWOR          1           1  ...       0        0\n",
       "Sanggar Sastra Indonesia Yogyakarta       1           0  ...       0        1\n",
       "...                                     ...         ...  ...     ...      ...\n",
       "Kampung Lampion Code 18                   1           1  ...       0        1\n",
       "Romo Mangun Museum                        1           0  ...       0        1\n",
       "SANGGAR PENANTIAN                         1           0  ...       0        1\n",
       "PJL Geser                                 1           0  ...       0        1\n",
       "Jembatan Kleringan Kewek                  1           0  ...       0        1\n",
       "\n",
       "[75 rows x 5 columns]"
      ]
     },
     "execution_count": 42,
     "metadata": {
      "tags": []
     },
     "output_type": "execute_result"
    }
   ],
   "source": [
    "# shuffle data\n",
    "places_shuffled, labels_shuffled = shuffle(places, labels)\n",
    "\n",
    "# to show data frame\n",
    "f = pd.DataFrame(data=labels_shuffled,\n",
    "                 index=places_shuffled,\n",
    "                 columns=class_types)\n",
    "f\n",
    "\n",
    "# split data testing and training\n",
    "training_places = places_shuffled[:]\n",
    "training_labels = labels_shuffled[:]\n",
    "testing_places = places_shuffled[:]\n",
    "testing_labels = labels_shuffled[:]"
   ]
  },
  {
   "cell_type": "code",
   "execution_count": 43,
   "metadata": {
    "id": "xQ2NQ5B1UCJu"
   },
   "outputs": [],
   "source": [
    "vocab_size = 12000\n",
    "embedding_dim = 16\n",
    "max_length = 24\n",
    "trunc_type = 'post'\n",
    "oov_tok = \"<OOV>\""
   ]
  },
  {
   "cell_type": "code",
   "execution_count": 44,
   "metadata": {
    "id": "jX5iJ5b3UOWd"
   },
   "outputs": [],
   "source": [
    "tokenizer = Tokenizer(num_words=vocab_size, oov_token=oov_tok)\n",
    "tokenizer.fit_on_texts(training_places)\n",
    "word_index = tokenizer.word_index\n",
    "\n",
    "sequences = tokenizer.texts_to_sequences(training_places)\n",
    "training_padded = pad_sequences(sequences, maxlen=max_length, truncating = trunc_type)\n",
    "\n",
    "testing_sequences = tokenizer.texts_to_sequences(training_places)\n",
    "testing_padded = pad_sequences(testing_sequences)"
   ]
  },
  {
   "cell_type": "code",
   "execution_count": 45,
   "metadata": {
    "colab": {
     "base_uri": "https://localhost:8080/"
    },
    "id": "OtUvI5thV4tW",
    "outputId": "f99304e8-aff7-40b1-89bd-676142c162b6"
   },
   "outputs": [
    {
     "name": "stdout",
     "output_type": "stream",
     "text": [
      "Model: \"sequential_3\"\n",
      "_________________________________________________________________\n",
      "Layer (type)                 Output Shape              Param #   \n",
      "=================================================================\n",
      "embedding_3 (Embedding)      (None, 24, 16)            192000    \n",
      "_________________________________________________________________\n",
      "conv1d_3 (Conv1D)            (None, 20, 64)            5184      \n",
      "_________________________________________________________________\n",
      "global_max_pooling1d_3 (Glob (None, 64)                0         \n",
      "_________________________________________________________________\n",
      "dense_6 (Dense)              (None, 48)                3120      \n",
      "_________________________________________________________________\n",
      "dense_7 (Dense)              (None, 5)                 245       \n",
      "=================================================================\n",
      "Total params: 200,549\n",
      "Trainable params: 200,549\n",
      "Non-trainable params: 0\n",
      "_________________________________________________________________\n"
     ]
    }
   ],
   "source": [
    "model = tf.keras.Sequential([\n",
    "  tf.keras.layers.Embedding(vocab_size,\n",
    "                            embedding_dim,\n",
    "                            input_length=max_length),\n",
    "  tf.keras.layers.Conv1D(64, 5, activation='relu'),\n",
    "  tf.keras.layers.GlobalMaxPooling1D(),\n",
    "  tf.keras.layers.Dense(48, activation='relu'),\n",
    "  tf.keras.layers.Dense(5, activation='softmax') \n",
    "])\n",
    "\n",
    "# kategori: **Budaya, Sejarah, Cagar Alam, Maritim, Religi**\n",
    "\n",
    "model.compile(loss=\"sparse_categorical_crossentropy\",\n",
    "              metrics=[\"accuracy\"],\n",
    "              optimizer='adam')\n",
    "\n",
    "model.summary()"
   ]
  },
  {
   "cell_type": "code",
   "execution_count": 46,
   "metadata": {
    "colab": {
     "base_uri": "https://localhost:8080/"
    },
    "id": "ft3q9cG4-XaZ",
    "outputId": "913670f6-3629-4298-be22-d96e3f7a3664"
   },
   "outputs": [
    {
     "name": "stdout",
     "output_type": "stream",
     "text": [
      "Epoch 1/10\n",
      "3/3 [==============================] - 1s 10ms/step - loss: 2.1916 - accuracy: 0.1067\n",
      "Epoch 2/10\n",
      "3/3 [==============================] - 0s 7ms/step - loss: 2.1517 - accuracy: 0.1067\n",
      "Epoch 3/10\n",
      "3/3 [==============================] - 0s 8ms/step - loss: 2.1151 - accuracy: 0.1333\n",
      "Epoch 4/10\n",
      "3/3 [==============================] - 0s 8ms/step - loss: 2.0739 - accuracy: 0.1600\n",
      "Epoch 5/10\n",
      "3/3 [==============================] - 0s 7ms/step - loss: 2.0292 - accuracy: 0.2133\n",
      "Epoch 6/10\n",
      "3/3 [==============================] - 0s 7ms/step - loss: 1.9754 - accuracy: 0.2267\n",
      "Epoch 7/10\n",
      "3/3 [==============================] - 0s 8ms/step - loss: 1.9181 - accuracy: 0.2667\n",
      "Epoch 8/10\n",
      "3/3 [==============================] - 0s 7ms/step - loss: 1.8588 - accuracy: 0.2667\n",
      "Epoch 9/10\n",
      "3/3 [==============================] - 0s 9ms/step - loss: 1.7977 - accuracy: 0.3067\n",
      "Epoch 10/10\n",
      "3/3 [==============================] - 0s 9ms/step - loss: 1.7385 - accuracy: 0.3867\n"
     ]
    }
   ],
   "source": [
    "num_epochs = 10\n",
    "\n",
    "training_padded = np.array(training_padded)\n",
    "training_labels = np.array(training_labels)\n",
    "testing_padded = np.array(testing_padded)\n",
    "testing_labels = np.array(testing_labels)\n",
    "\n",
    "history = model.fit(training_padded, training_labels,\n",
    "                    epochs=num_epochs,\n",
    "                    #validation_data=(testing_padded,testing_labels),\n",
    "                    verbose = 1)"
   ]
  }
 ],
 "metadata": {
  "colab": {
   "authorship_tag": "ABX9TyOdRL5giyamyehHYrsspy5i",
   "include_colab_link": true,
   "name": "TravelCompanion_1.ipynb",
   "provenance": []
  },
  "kernelspec": {
   "display_name": "Python 3",
   "language": "python",
   "name": "python3"
  },
  "language_info": {
   "codemirror_mode": {
    "name": "ipython",
    "version": 3
   },
   "file_extension": ".py",
   "mimetype": "text/x-python",
   "name": "python",
   "nbconvert_exporter": "python",
   "pygments_lexer": "ipython3",
   "version": "3.8.0"
  }
 },
 "nbformat": 4,
 "nbformat_minor": 1
}
