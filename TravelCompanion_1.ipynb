{
  "nbformat": 4,
  "nbformat_minor": 0,
  "metadata": {
    "colab": {
      "name": "TravelCompanion_1.ipynb",
      "provenance": []
    },
    "kernelspec": {
      "display_name": "Python 3",
      "name": "python3"
    },
    "language_info": {
      "name": "python"
    }
  },
  "cells": [
    {
      "cell_type": "code",
      "metadata": {
        "id": "GAs5lVKc9J_X"
      },
      "source": [
        "import numpy as np\n",
        "import json\n",
        "import tensorflow as tf\n",
        "from tensorflow.keras.preprocessing.text import Tokenizer\n",
        "from tensorflow.keras.preprocessing.sequence import pad_sequences"
      ],
      "execution_count": null,
      "outputs": []
    },
    {
      "cell_type": "code",
      "metadata": {
        "id": "XgPbbRKWUliH",
        "colab": {
          "base_uri": "https://localhost:8080/"
        },
        "outputId": "2788759d-dca7-4c56-ea4b-10f1b50f9366"
      },
      "source": [
        "# Here to pre-process the data input\n",
        "training_places = []\n",
        "training_labels = []\n",
        "testing_places = []\n",
        "testing_labels = []\n",
        "\n",
        "with open(\"/tmp/amusement_park.json\", 'r') as f:\n",
        "    datastore = json.load(f)\n",
        "\n",
        "# print(datastore['results'][2]['name'])\n",
        "for item in datastore['results']:\n",
        "  training_places.append(item['name'])\n",
        "\n",
        "training_places"
      ],
      "execution_count": null,
      "outputs": [
        {
          "output_type": "execute_result",
          "data": {
            "text/plain": [
              "['Kampung Wisata Sosromenduran',\n",
              " 'Kids Fun Toko Progo',\n",
              " 'Taman Air Menari',\n",
              " 'Kampung MARKISA Blunyahrejo',\n",
              " 'Cemerlang Abadi. CV']"
            ]
          },
          "metadata": {
            "tags": []
          },
          "execution_count": 34
        }
      ]
    },
    {
      "cell_type": "code",
      "metadata": {
        "id": "xQ2NQ5B1UCJu"
      },
      "source": [
        "vocab_size = 12000\n",
        "embedding_dim = 16\n",
        "max_length = 24\n",
        "trunc_type = 'post'\n",
        "oov_tok = \"<OOV>\""
      ],
      "execution_count": null,
      "outputs": []
    },
    {
      "cell_type": "code",
      "metadata": {
        "id": "jX5iJ5b3UOWd"
      },
      "source": [
        "tokenizer = Tokenizer(num_words=vocab_size, oov_token=oov_tok)\n",
        "tokenizer.fit_on_texts(training_places)\n",
        "word_index = tokenizer.word_index\n",
        "\n",
        "sequences = tokenizer.texts_to_sequences(training_places)\n",
        "training_padded = pad_sequences(sequences, maxlen=max_length, truncating = trunc_type)\n",
        "\n",
        "testing_sequences = tokenizer.texts_to_sequences(training_places)\n",
        "testing_padded = pad_sequences(testing_sequences)"
      ],
      "execution_count": null,
      "outputs": []
    },
    {
      "cell_type": "code",
      "metadata": {
        "id": "OtUvI5thV4tW"
      },
      "source": [
        "model = tf.keras.Sequential([\n",
        "  tf.keras.layers.Embedding(vocab_size,\n",
        "                            embedding_dim,\n",
        "                            input_length=max_length),\n",
        "  tf.keras.layers.Conv1D(64, 5, activation='relu'),\n",
        "  tf.keras.layers.GlobalMaxPooling1D(),\n",
        "  tf.keras.layers.Dense(48, activation='relu'),\n",
        "  tf.keras.layers.Dense(5, activation='softmax') \n",
        "])\n",
        "\n",
        "# kategori: **Budaya, Sejarah, Cagar Alam, Maritim, Religi**\n",
        "\n",
        "model.compile(loss=\"categorical_crossentropy\",\n",
        "              metrics=[\"accuracy\"],\n",
        "              optimizer='adam')\n",
        "\n",
        "model.summary()"
      ],
      "execution_count": null,
      "outputs": []
    },
    {
      "cell_type": "code",
      "metadata": {
        "id": "ft3q9cG4-XaZ"
      },
      "source": [
        "num_epochs = 10\n",
        "\n",
        "training_padded = np.array(training_padded)\n",
        "training_labels = np.array(training_labels)\n",
        "testing_padded = np.array(testing_padded)\n",
        "testing_labels = np.array(testing_labels)\n",
        "\n",
        "history = model.fit(training_padded, training_labels,\n",
        "                    epochs=num_epochs,\n",
        "                    validation_data=(testing_padded,testing_labels),\n",
        "                    verbose = 1)"
      ],
      "execution_count": null,
      "outputs": []
    }
  ]
}