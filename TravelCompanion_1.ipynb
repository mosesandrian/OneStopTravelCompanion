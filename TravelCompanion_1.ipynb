{
  "nbformat": 4,
  "nbformat_minor": 0,
  "metadata": {
    "colab": {
      "name": "TravelCompanion_2.ipynb",
      "provenance": [],
      "collapsed_sections": []
    },
    "kernelspec": {
      "display_name": "Python 3",
      "name": "python3"
    },
    "language_info": {
      "name": "python"
    }
  },
  "cells": [
    {
      "cell_type": "code",
      "metadata": {
        "id": "GAs5lVKc9J_X"
      },
      "source": [
        "import numpy as np\n",
        "import json\n",
        "import pandas as pd\n",
        "import tensorflow as tf\n",
        "import matplotlib.pyplot as plt\n",
        "\n",
        "from sklearn.preprocessing import MultiLabelBinarizer\n",
        "from sklearn.utils import shuffle\n",
        "from datetime import datetime\n",
        "from tensorflow.keras.preprocessing.text import Tokenizer\n",
        "from tensorflow.keras.preprocessing.sequence import pad_sequences"
      ],
      "execution_count": 1,
      "outputs": []
    },
    {
      "cell_type": "code",
      "metadata": {
        "id": "J6YgM_tnB00S"
      },
      "source": [
        "import io\n",
        "from flask import Flask"
      ],
      "execution_count": 2,
      "outputs": []
    },
    {
      "cell_type": "code",
      "metadata": {
        "id": "MYmOgC84Pddr"
      },
      "source": [
        "%load_ext tensorboard"
      ],
      "execution_count": null,
      "outputs": []
    },
    {
      "cell_type": "code",
      "metadata": {
        "id": "XgPbbRKWUliH"
      },
      "source": [
        "# Here to pre-process the data input\n",
        "places = []\n",
        "labels = []\n",
        "training_places = []\n",
        "training_labels = []\n",
        "testing_places = []\n",
        "testing_labels = []\n",
        "\n",
        "with open(\"/tmp/TourismSitesIndonesia.json\", 'r') as f:\n",
        "    datastore = json.load(f)\n",
        "\n",
        "# to access: print(datastore['results'][2]['name'])\n",
        "for item in datastore['results']:\n",
        "  if (item['types'] != [\"\"]): \n",
        "    places.append(item['name'])\n",
        "    labels.append(item['types'])"
      ],
      "execution_count": 3,
      "outputs": []
    },
    {
      "cell_type": "code",
      "metadata": {
        "id": "M2JT9TT5oUyp"
      },
      "source": [
        "one_hot = MultiLabelBinarizer()\n",
        "labels = one_hot.fit_transform(labels)\n",
        "class_types = one_hot.classes_"
      ],
      "execution_count": 4,
      "outputs": []
    },
    {
      "cell_type": "code",
      "metadata": {
        "id": "k9XjYIkXDAYo"
      },
      "source": [
        "def extractPlaces(lst):\n",
        "  return list(map(lambda x:[x], lst))"
      ],
      "execution_count": null,
      "outputs": []
    },
    {
      "cell_type": "code",
      "metadata": {
        "id": "lxVx57XSDJXf"
      },
      "source": [
        "dataset = tf.data.Dataset.from_tensor_slices((extractPlaces(places),\n",
        "                                              labels))"
      ],
      "execution_count": null,
      "outputs": []
    },
    {
      "cell_type": "code",
      "metadata": {
        "id": "BScKjypBtdjK"
      },
      "source": [
        "# shuffle data\n",
        "places_shuffled, labels_shuffled = shuffle(places, labels)\n",
        "\n",
        "num_split = int(0.7*len(places)) # change from 0.8 to 0.7\n",
        "\n",
        "# split data testing and training\n",
        "training_places = places_shuffled[:num_split]\n",
        "training_labels = labels_shuffled[:num_split]\n",
        "testing_places = places_shuffled[num_split:]\n",
        "testing_labels = labels_shuffled[num_split:]"
      ],
      "execution_count": 5,
      "outputs": []
    },
    {
      "cell_type": "code",
      "metadata": {
        "id": "9WpGZymAbTIk"
      },
      "source": [
        "f = pd.DataFrame(data=labels_shuffled,\n",
        "                 index=places_shuffled,\n",
        "                 columns=class_types)\n",
        "# f # uncomment to show data frame (all data)\n",
        "\n",
        "g = pd.DataFrame(data=training_labels,\n",
        "                 index=training_places,\n",
        "                 columns=class_types)\n",
        "# g # uncomment to show data frame (training data)\n",
        "\n",
        "h = pd.DataFrame(data=testing_labels,\n",
        "                 index=testing_places,\n",
        "                 columns=class_types)\n",
        "# h # uncomment to show data frame (testing data)"
      ],
      "execution_count": 6,
      "outputs": []
    },
    {
      "cell_type": "code",
      "metadata": {
        "id": "xQ2NQ5B1UCJu"
      },
      "source": [
        "vocab_size = 12000\n",
        "embedding_dim = 64\n",
        "max_length = 10\n",
        "trunc_type = 'post'\n",
        "oov_tok = \"<OOV>\""
      ],
      "execution_count": 7,
      "outputs": []
    },
    {
      "cell_type": "code",
      "metadata": {
        "id": "jX5iJ5b3UOWd"
      },
      "source": [
        "tokenizer = Tokenizer(num_words=vocab_size, oov_token=oov_tok)\n",
        "tokenizer.fit_on_texts(training_places)\n",
        "word_index = tokenizer.word_index\n",
        "\n",
        "sequences = tokenizer.texts_to_sequences(training_places)\n",
        "training_padded = pad_sequences(sequences,\n",
        "                                maxlen=max_length,\n",
        "                                truncating = trunc_type)\n",
        "\n",
        "testing_sequences = tokenizer.texts_to_sequences(testing_places)\n",
        "testing_padded = pad_sequences(testing_sequences,\n",
        "                               maxlen=max_length,\n",
        "                               truncating = trunc_type)"
      ],
      "execution_count": 8,
      "outputs": []
    },
    {
      "cell_type": "code",
      "metadata": {
        "id": "-14VoAbeAPoD"
      },
      "source": [
        "tokenizer_json = tokenizer.to_json()\n",
        "with io.open('./tokenizer.json', 'w', encoding='utf-8') as f:\n",
        "  f.write(json.dumps(tokenizer_json, ensure_ascii=True))"
      ],
      "execution_count": 9,
      "outputs": []
    },
    {
      "cell_type": "code",
      "metadata": {
        "id": "OtUvI5thV4tW",
        "colab": {
          "base_uri": "https://localhost:8080/"
        },
        "outputId": "adcb66b8-4142-46a7-e62c-437b699a44e2"
      },
      "source": [
        "model = tf.keras.Sequential([\n",
        "  tf.keras.layers.Embedding(vocab_size, ## formerly: vocab_size\n",
        "                            embedding_dim,\n",
        "                            input_length=max_length),\n",
        "  tf.keras.layers.Bidirectional(tf.keras.layers.LSTM(32)),\n",
        "  tf.keras.layers.Dense(128, activation='relu'),\n",
        "  tf.keras.layers.Dense(64, activation='sigmoid'),\n",
        "  tf.keras.layers.Dense(5, activation='softmax') \n",
        "])\n",
        "\n",
        "# kategori: **Budaya, Sejarah, Cagar Alam, Maritim, Religi**\n",
        "\n",
        "model.compile(loss=\"categorical_crossentropy\",\n",
        "              metrics=[\"accuracy\"],\n",
        "              optimizer='adam')\n",
        "\n",
        "model.summary()"
      ],
      "execution_count": 30,
      "outputs": [
        {
          "output_type": "stream",
          "text": [
            "Model: \"sequential_5\"\n",
            "_________________________________________________________________\n",
            "Layer (type)                 Output Shape              Param #   \n",
            "=================================================================\n",
            "embedding_5 (Embedding)      (None, 10, 64)            768000    \n",
            "_________________________________________________________________\n",
            "bidirectional_6 (Bidirection (None, 64)                24832     \n",
            "_________________________________________________________________\n",
            "dense_15 (Dense)             (None, 128)               8320      \n",
            "_________________________________________________________________\n",
            "dense_16 (Dense)             (None, 64)                8256      \n",
            "_________________________________________________________________\n",
            "dense_17 (Dense)             (None, 5)                 325       \n",
            "=================================================================\n",
            "Total params: 809,733\n",
            "Trainable params: 809,733\n",
            "Non-trainable params: 0\n",
            "_________________________________________________________________\n"
          ],
          "name": "stdout"
        }
      ]
    },
    {
      "cell_type": "code",
      "metadata": {
        "id": "QcWzUAXrjzIF"
      },
      "source": [
        "DESIRED_ACCURACY = 0.90\n",
        "\n",
        "class myCallback(tf.keras.callbacks.Callback):\n",
        "    def on_epoch_end(self,epoch,logs={}):\n",
        "        if(logs.get('accuracy')>DESIRED_ACCURACY):\n",
        "            print(\"\\nReached threshold accuracy so cancelling training!\")\n",
        "            self.model.stop_training = True\n",
        "callbacks = myCallback()"
      ],
      "execution_count": 26,
      "outputs": []
    },
    {
      "cell_type": "code",
      "metadata": {
        "id": "ft3q9cG4-XaZ",
        "colab": {
          "base_uri": "https://localhost:8080/"
        },
        "outputId": "8dbd633a-61b6-424e-d714-c8d3b0651293"
      },
      "source": [
        "num_epochs = 50\n",
        "\n",
        "history = model.fit(training_padded, training_labels,\n",
        "                    epochs=num_epochs,\n",
        "                    validation_data=(testing_padded,testing_labels),\n",
        "                    verbose = 1,\n",
        "                    batch_size = 16, # change from 64 -> 8\n",
        "                    callbacks = [callbacks])"
      ],
      "execution_count": 31,
      "outputs": [
        {
          "output_type": "stream",
          "text": [
            "Epoch 1/50\n",
            "31/33 [===========================>..] - ETA: 0s - loss: 2.2837 - accuracy: 0.3387WARNING:tensorflow:Model was constructed with shape (None, 10) for input KerasTensor(type_spec=TensorSpec(shape=(None, 10), dtype=tf.float32, name='embedding_5_input'), name='embedding_5_input', description=\"created by layer 'embedding_5_input'\"), but it was called on an input with incompatible shape (None, 9).\n",
            "33/33 [==============================] - 6s 49ms/step - loss: 2.2831 - accuracy: 0.3378 - val_loss: 1.9686 - val_accuracy: 0.4843\n",
            "Epoch 2/50\n",
            "33/33 [==============================] - 1s 21ms/step - loss: 1.7983 - accuracy: 0.4942 - val_loss: 1.8953 - val_accuracy: 0.4843\n",
            "Epoch 3/50\n",
            "33/33 [==============================] - 1s 21ms/step - loss: 1.7742 - accuracy: 0.4942 - val_loss: 1.9046 - val_accuracy: 0.4843\n",
            "Epoch 4/50\n",
            "33/33 [==============================] - 1s 21ms/step - loss: 1.7638 - accuracy: 0.4942 - val_loss: 1.8807 - val_accuracy: 0.4888\n",
            "Epoch 5/50\n",
            "33/33 [==============================] - 1s 20ms/step - loss: 1.6767 - accuracy: 0.5270 - val_loss: 1.6918 - val_accuracy: 0.5022\n",
            "Epoch 6/50\n",
            "33/33 [==============================] - 1s 21ms/step - loss: 1.3463 - accuracy: 0.6274 - val_loss: 1.6427 - val_accuracy: 0.4395\n",
            "Epoch 7/50\n",
            "33/33 [==============================] - 1s 21ms/step - loss: 1.2505 - accuracy: 0.6467 - val_loss: 1.5430 - val_accuracy: 0.4753\n",
            "Epoch 8/50\n",
            "33/33 [==============================] - 1s 20ms/step - loss: 1.2360 - accuracy: 0.6197 - val_loss: 1.5334 - val_accuracy: 0.5291\n",
            "Epoch 9/50\n",
            "33/33 [==============================] - 1s 20ms/step - loss: 1.2280 - accuracy: 0.7085 - val_loss: 1.6233 - val_accuracy: 0.4843\n",
            "Epoch 10/50\n",
            "33/33 [==============================] - 1s 21ms/step - loss: 1.1830 - accuracy: 0.7008 - val_loss: 1.5037 - val_accuracy: 0.5336\n",
            "Epoch 11/50\n",
            "33/33 [==============================] - 1s 21ms/step - loss: 1.1446 - accuracy: 0.6178 - val_loss: 1.5523 - val_accuracy: 0.5874\n",
            "Epoch 12/50\n",
            "33/33 [==============================] - 1s 21ms/step - loss: 1.0981 - accuracy: 0.7355 - val_loss: 1.5039 - val_accuracy: 0.6233\n",
            "Epoch 13/50\n",
            "33/33 [==============================] - 1s 21ms/step - loss: 1.0824 - accuracy: 0.7568 - val_loss: 1.5669 - val_accuracy: 0.5112\n",
            "Epoch 14/50\n",
            "33/33 [==============================] - 1s 20ms/step - loss: 1.0542 - accuracy: 0.7394 - val_loss: 1.6040 - val_accuracy: 0.5291\n",
            "Epoch 15/50\n",
            "33/33 [==============================] - 1s 22ms/step - loss: 1.0270 - accuracy: 0.7606 - val_loss: 1.5624 - val_accuracy: 0.5202\n",
            "Epoch 16/50\n",
            "33/33 [==============================] - 1s 20ms/step - loss: 1.0148 - accuracy: 0.7683 - val_loss: 1.5677 - val_accuracy: 0.5561\n",
            "Epoch 17/50\n",
            "33/33 [==============================] - 1s 22ms/step - loss: 0.9865 - accuracy: 0.7799 - val_loss: 1.4923 - val_accuracy: 0.5650\n",
            "Epoch 18/50\n",
            "33/33 [==============================] - 1s 21ms/step - loss: 0.9865 - accuracy: 0.7722 - val_loss: 1.5953 - val_accuracy: 0.5650\n",
            "Epoch 19/50\n",
            "33/33 [==============================] - 1s 21ms/step - loss: 0.9829 - accuracy: 0.7838 - val_loss: 1.5780 - val_accuracy: 0.5561\n",
            "Epoch 20/50\n",
            "33/33 [==============================] - 1s 20ms/step - loss: 0.9689 - accuracy: 0.7838 - val_loss: 1.5591 - val_accuracy: 0.5740\n",
            "Epoch 21/50\n",
            "33/33 [==============================] - 1s 21ms/step - loss: 0.9489 - accuracy: 0.7876 - val_loss: 1.5893 - val_accuracy: 0.5561\n",
            "Epoch 22/50\n",
            "33/33 [==============================] - 1s 20ms/step - loss: 0.9487 - accuracy: 0.7876 - val_loss: 1.5791 - val_accuracy: 0.5830\n",
            "Epoch 23/50\n",
            "33/33 [==============================] - 1s 21ms/step - loss: 0.9409 - accuracy: 0.7761 - val_loss: 1.5386 - val_accuracy: 0.5740\n",
            "Epoch 24/50\n",
            "33/33 [==============================] - 1s 20ms/step - loss: 0.9392 - accuracy: 0.7819 - val_loss: 1.5512 - val_accuracy: 0.5830\n",
            "Epoch 25/50\n",
            "33/33 [==============================] - 1s 22ms/step - loss: 0.9234 - accuracy: 0.7876 - val_loss: 1.5151 - val_accuracy: 0.5740\n",
            "Epoch 26/50\n",
            "33/33 [==============================] - 1s 23ms/step - loss: 0.9107 - accuracy: 0.7876 - val_loss: 1.5191 - val_accuracy: 0.5830\n",
            "Epoch 27/50\n",
            "33/33 [==============================] - 1s 21ms/step - loss: 0.9062 - accuracy: 0.7876 - val_loss: 1.5240 - val_accuracy: 0.5785\n",
            "Epoch 28/50\n",
            "33/33 [==============================] - 1s 22ms/step - loss: 0.9060 - accuracy: 0.7857 - val_loss: 1.5679 - val_accuracy: 0.5830\n",
            "Epoch 29/50\n",
            "33/33 [==============================] - 1s 21ms/step - loss: 0.9012 - accuracy: 0.7761 - val_loss: 1.6123 - val_accuracy: 0.5426\n",
            "Epoch 30/50\n",
            "33/33 [==============================] - 1s 21ms/step - loss: 0.9131 - accuracy: 0.7819 - val_loss: 1.7217 - val_accuracy: 0.5471\n",
            "Epoch 31/50\n",
            "33/33 [==============================] - 1s 22ms/step - loss: 0.9409 - accuracy: 0.7664 - val_loss: 1.5382 - val_accuracy: 0.5695\n",
            "Epoch 32/50\n",
            "33/33 [==============================] - 1s 23ms/step - loss: 0.8987 - accuracy: 0.7799 - val_loss: 1.6130 - val_accuracy: 0.5426\n",
            "Epoch 33/50\n",
            "33/33 [==============================] - 1s 21ms/step - loss: 0.8797 - accuracy: 0.7876 - val_loss: 1.6210 - val_accuracy: 0.5605\n",
            "Epoch 34/50\n",
            "33/33 [==============================] - 1s 21ms/step - loss: 0.8834 - accuracy: 0.7819 - val_loss: 1.6560 - val_accuracy: 0.5381\n",
            "Epoch 35/50\n",
            "33/33 [==============================] - 1s 22ms/step - loss: 0.8715 - accuracy: 0.7896 - val_loss: 1.5198 - val_accuracy: 0.5874\n",
            "Epoch 36/50\n",
            "33/33 [==============================] - 1s 22ms/step - loss: 0.8682 - accuracy: 0.7896 - val_loss: 1.5833 - val_accuracy: 0.5516\n",
            "Epoch 37/50\n",
            "33/33 [==============================] - 1s 21ms/step - loss: 0.8469 - accuracy: 0.7896 - val_loss: 1.6195 - val_accuracy: 0.5471\n",
            "Epoch 38/50\n",
            "33/33 [==============================] - 1s 21ms/step - loss: 0.8436 - accuracy: 0.7896 - val_loss: 1.5874 - val_accuracy: 0.5247\n",
            "Epoch 39/50\n",
            "33/33 [==============================] - 1s 21ms/step - loss: 0.8546 - accuracy: 0.7992 - val_loss: 1.5385 - val_accuracy: 0.5650\n",
            "Epoch 40/50\n",
            "33/33 [==============================] - 1s 21ms/step - loss: 0.8564 - accuracy: 0.7896 - val_loss: 1.5199 - val_accuracy: 0.5650\n",
            "Epoch 41/50\n",
            "33/33 [==============================] - 1s 21ms/step - loss: 0.8447 - accuracy: 0.7896 - val_loss: 1.5035 - val_accuracy: 0.5874\n",
            "Epoch 42/50\n",
            "33/33 [==============================] - 1s 21ms/step - loss: 0.8358 - accuracy: 0.7896 - val_loss: 1.5548 - val_accuracy: 0.5516\n",
            "Epoch 43/50\n",
            "33/33 [==============================] - 1s 21ms/step - loss: 0.8419 - accuracy: 0.7896 - val_loss: 1.5567 - val_accuracy: 0.5516\n",
            "Epoch 44/50\n",
            "33/33 [==============================] - 1s 21ms/step - loss: 0.8299 - accuracy: 0.7896 - val_loss: 1.5531 - val_accuracy: 0.5650\n",
            "Epoch 45/50\n",
            "33/33 [==============================] - 1s 21ms/step - loss: 0.8406 - accuracy: 0.7896 - val_loss: 1.5439 - val_accuracy: 0.5650\n",
            "Epoch 46/50\n",
            "33/33 [==============================] - 1s 21ms/step - loss: 0.8274 - accuracy: 0.8127 - val_loss: 1.5616 - val_accuracy: 0.5650\n",
            "Epoch 47/50\n",
            "33/33 [==============================] - 1s 22ms/step - loss: 0.8216 - accuracy: 0.8784 - val_loss: 1.5815 - val_accuracy: 0.6099\n",
            "Epoch 48/50\n",
            "33/33 [==============================] - 1s 21ms/step - loss: 0.8226 - accuracy: 0.8456 - val_loss: 1.5642 - val_accuracy: 0.5650\n",
            "Epoch 49/50\n",
            "33/33 [==============================] - 1s 22ms/step - loss: 0.8258 - accuracy: 0.7934 - val_loss: 1.5582 - val_accuracy: 0.6009\n",
            "Epoch 50/50\n",
            "33/33 [==============================] - 1s 21ms/step - loss: 0.8223 - accuracy: 0.8938 - val_loss: 1.5605 - val_accuracy: 0.6233\n"
          ],
          "name": "stdout"
        }
      ]
    },
    {
      "cell_type": "code",
      "metadata": {
        "colab": {
          "base_uri": "https://localhost:8080/",
          "height": 294
        },
        "id": "awjucjfMvMk0",
        "outputId": "723ca109-1674-4e74-e54a-b72966fa82da"
      },
      "source": [
        "plt.plot(history.history['accuracy'])\n",
        "plt.plot(history.history['val_accuracy'])\n",
        "plt.title('model accuracy')\n",
        "plt.ylabel('accuracy')\n",
        "plt.xlabel('epoch')\n",
        "plt.legend(['train', 'test'], loc='upper left')\n",
        "plt.show()"
      ],
      "execution_count": 32,
      "outputs": [
        {
          "output_type": "display_data",
          "data": {
            "image/png": "[encoded data removed]",
            "text/plain": [
              "<Figure size 432x288 with 1 Axes>"
            ]
          },
          "metadata": {
            "tags": [],
            "needs_background": "light"
          }
        }
      ]
    },
    {
      "cell_type": "code",
      "metadata": {
        "colab": {
          "base_uri": "https://localhost:8080/",
          "height": 294
        },
        "id": "7RcfBel-SaWS",
        "outputId": "3f51fd63-a05f-46b3-a6c4-4d8f0da900fb"
      },
      "source": [
        "plt.plot(history.history['loss'])\n",
        "plt.plot(history.history['val_loss'])\n",
        "plt.title('model loss')\n",
        "plt.ylabel('loss')\n",
        "plt.xlabel('epoch')\n",
        "plt.legend(['train', 'test'], loc='upper left')\n",
        "plt.show()"
      ],
      "execution_count": 24,
      "outputs": [
        {
          "output_type": "display_data",
          "data": {
            "image/png": "[encoded data removed]",
            "text/plain": [
              "<Figure size 432x288 with 1 Axes>"
            ]
          },
          "metadata": {
            "tags": [],
            "needs_background": "light"
          }
        }
      ]
    },
    {
      "cell_type": "code",
      "metadata": {
        "id": "wCBpcjU6gZPR"
      },
      "source": [
        "# to be done after training is finished\n",
        "\n",
        "import time\n",
        "saved_model_path = \"./{}.h5\".format(int(time.time()))\n",
        "saved_model_weight = \"./weight{}.h5\".format(int(time.time()))\n",
        "\n",
        "model.save(saved_model_path)\n",
        "model.save_weights(saved_model_weight)"
      ],
      "execution_count": 33,
      "outputs": []
    },
    {
      "cell_type": "code",
      "metadata": {
        "colab": {
          "base_uri": "https://localhost:8080/"
        },
        "id": "re7FCpi1rqYd",
        "outputId": "93a9aae1-fdcc-49f6-8685-a60251d3d3d6"
      },
      "source": [
        "!pwd"
      ],
      "execution_count": null,
      "outputs": [
        {
          "output_type": "stream",
          "text": [
            "/content\n"
          ],
          "name": "stdout"
        }
      ]
    },
    {
      "cell_type": "code",
      "metadata": {
        "id": "3UCtadUxgx0q"
      },
      "source": [
        "!sudo pip install tensorflowjs\n",
        "!tensorflowjs_converter --input_format=keras {saved_model_path} ./"
      ],
      "execution_count": null,
      "outputs": []
    },
    {
      "cell_type": "markdown",
      "metadata": {
        "id": "8SmFC4aFOtjM"
      },
      "source": [
        "# **Inference**"
      ]
    },
    {
      "cell_type": "code",
      "metadata": {
        "id": "oE762IPdwCZ3"
      },
      "source": [
        "app = Flask(__name__)"
      ],
      "execution_count": 34,
      "outputs": []
    },
    {
      "cell_type": "code",
      "metadata": {
        "id": "JuZ2bPKTwFtO"
      },
      "source": [
        "@app.route(\"/\")\n",
        "@app.route(\"/home\")\n",
        "def home():\n",
        "  return \"<h1>Inference Classification Tourism Sites</h1>\"\n",
        "\n",
        "@app.route(\"/infer\")\n",
        "def infer():\n",
        "  modeltest = \n",
        "\n",
        "if __name__ == '__main__':\n",
        "    app.run(debug=True)"
      ],
      "execution_count": null,
      "outputs": []
    },
    {
      "cell_type": "code",
      "metadata": {
        "id": "wMGYGKn4OrwB"
      },
      "source": [
        "model.load_weights('/content/1623065205.h5')"
      ],
      "execution_count": null,
      "outputs": []
    },
    {
      "cell_type": "code",
      "metadata": {
        "colab": {
          "base_uri": "https://localhost:8080/"
        },
        "id": "DKruhuXwO7ZN",
        "outputId": "effb8947-a918-443b-ac54-99d0df1b907f"
      },
      "source": [
        "asbuasbi = tokenizer.texts_to_sequences(\"Kampung MARKISA Blunyahrejo\")\n",
        "asbuasbi = pad_sequences(asbuasbi)\n",
        "predictions=model.predict(asbuasbi)\n",
        "print(class_types[np.argmax(predictions[0])])"
      ],
      "execution_count": 36,
      "outputs": [
        {
          "output_type": "stream",
          "text": [
            "WARNING:tensorflow:Model was constructed with shape (None, 10) for input KerasTensor(type_spec=TensorSpec(shape=(None, 10), dtype=tf.float32, name='embedding_5_input'), name='embedding_5_input', description=\"created by layer 'embedding_5_input'\"), but it was called on an input with incompatible shape (None, 1).\n",
            "budaya\n"
          ],
          "name": "stdout"
        }
      ]
    },
    {
      "cell_type": "code",
      "metadata": {
        "colab": {
          "base_uri": "https://localhost:8080/"
        },
        "id": "tisjnWvExghC",
        "outputId": "30ccac4e-aff4-4a15-d9b4-2ec2807d2257"
      },
      "source": [
        "print(class_types)"
      ],
      "execution_count": 37,
      "outputs": [
        {
          "output_type": "stream",
          "text": [
            "['budaya' 'cagar_alam' 'maritim' 'religi' 'sejarah']\n"
          ],
          "name": "stdout"
        }
      ]
    },
    {
      "cell_type": "code",
      "metadata": {
        "colab": {
          "base_uri": "https://localhost:8080/",
          "height": 406
        },
        "id": "UjhWU6GIPzVo",
        "outputId": "0705b212-9e61-4c3f-dc1c-c854c9907225"
      },
      "source": [
        ""
      ],
      "execution_count": null,
      "outputs": [
        {
          "output_type": "execute_result",
          "data": {
            "text/html": [
              "<div>\n",
              "<style scoped>\n",
              "    .dataframe tbody tr th:only-of-type {\n",
              "        vertical-align: middle;\n",
              "    }\n",
              "\n",
              "    .dataframe tbody tr th {\n",
              "        vertical-align: top;\n",
              "    }\n",
              "\n",
              "    .dataframe thead th {\n",
              "        text-align: right;\n",
              "    }\n",
              "</style>\n",
              "<table border=\"1\" class=\"dataframe\">\n",
              "  <thead>\n",
              "    <tr style=\"text-align: right;\">\n",
              "      <th></th>\n",
              "      <th>budaya</th>\n",
              "      <th>cagar_alam</th>\n",
              "      <th>maritim</th>\n",
              "      <th>religi</th>\n",
              "      <th>sejarah</th>\n",
              "    </tr>\n",
              "  </thead>\n",
              "  <tbody>\n",
              "    <tr>\n",
              "      <th>Gereja Kemenangan Iman Indonesia (GKII) Dumai</th>\n",
              "      <td>1</td>\n",
              "      <td>0</td>\n",
              "      <td>0</td>\n",
              "      <td>1</td>\n",
              "      <td>0</td>\n",
              "    </tr>\n",
              "    <tr>\n",
              "      <th>Waduk Ds. Murtajih</th>\n",
              "      <td>0</td>\n",
              "      <td>1</td>\n",
              "      <td>0</td>\n",
              "      <td>0</td>\n",
              "      <td>0</td>\n",
              "    </tr>\n",
              "    <tr>\n",
              "      <th>Gereja Bethesda GPM Poka</th>\n",
              "      <td>0</td>\n",
              "      <td>0</td>\n",
              "      <td>0</td>\n",
              "      <td>1</td>\n",
              "      <td>0</td>\n",
              "    </tr>\n",
              "    <tr>\n",
              "      <th>At-Taubah Mosque</th>\n",
              "      <td>0</td>\n",
              "      <td>0</td>\n",
              "      <td>0</td>\n",
              "      <td>1</td>\n",
              "      <td>1</td>\n",
              "    </tr>\n",
              "    <tr>\n",
              "      <th>Gereja Mahkota Hayat</th>\n",
              "      <td>0</td>\n",
              "      <td>0</td>\n",
              "      <td>0</td>\n",
              "      <td>1</td>\n",
              "      <td>0</td>\n",
              "    </tr>\n",
              "    <tr>\n",
              "      <th>...</th>\n",
              "      <td>...</td>\n",
              "      <td>...</td>\n",
              "      <td>...</td>\n",
              "      <td>...</td>\n",
              "      <td>...</td>\n",
              "    </tr>\n",
              "    <tr>\n",
              "      <th>Fort Victoria</th>\n",
              "      <td>0</td>\n",
              "      <td>0</td>\n",
              "      <td>0</td>\n",
              "      <td>0</td>\n",
              "      <td>1</td>\n",
              "    </tr>\n",
              "    <tr>\n",
              "      <th>Ndalem Sindurejan (Bekas Rumah Pangeran Sambernyawa)</th>\n",
              "      <td>1</td>\n",
              "      <td>0</td>\n",
              "      <td>0</td>\n",
              "      <td>0</td>\n",
              "      <td>1</td>\n",
              "    </tr>\n",
              "    <tr>\n",
              "      <th>zaki malaysia</th>\n",
              "      <td>0</td>\n",
              "      <td>1</td>\n",
              "      <td>0</td>\n",
              "      <td>0</td>\n",
              "      <td>0</td>\n",
              "    </tr>\n",
              "    <tr>\n",
              "      <th>GPdI Hagios Family Yogyakarta</th>\n",
              "      <td>0</td>\n",
              "      <td>0</td>\n",
              "      <td>0</td>\n",
              "      <td>1</td>\n",
              "      <td>0</td>\n",
              "    </tr>\n",
              "    <tr>\n",
              "      <th>Pantai Bahar</th>\n",
              "      <td>0</td>\n",
              "      <td>1</td>\n",
              "      <td>1</td>\n",
              "      <td>0</td>\n",
              "      <td>0</td>\n",
              "    </tr>\n",
              "  </tbody>\n",
              "</table>\n",
              "<p>412 rows × 5 columns</p>\n",
              "</div>"
            ],
            "text/plain": [
              "                                                    budaya  ...  sejarah\n",
              "Gereja Kemenangan Iman Indonesia (GKII) Dumai            1  ...        0\n",
              "Waduk Ds. Murtajih                                       0  ...        0\n",
              "Gereja Bethesda GPM Poka                                 0  ...        0\n",
              "At-Taubah Mosque                                         0  ...        1\n",
              "Gereja Mahkota Hayat                                     0  ...        0\n",
              "...                                                    ...  ...      ...\n",
              "Fort Victoria                                            0  ...        1\n",
              "Ndalem Sindurejan (Bekas Rumah Pangeran Sambern...       1  ...        1\n",
              "zaki malaysia                                            0  ...        0\n",
              "GPdI Hagios Family Yogyakarta                            0  ...        0\n",
              "Pantai Bahar                                             0  ...        0\n",
              "\n",
              "[412 rows x 5 columns]"
            ]
          },
          "metadata": {
            "tags": []
          },
          "execution_count": 38
        }
      ]
    }
  ]
}